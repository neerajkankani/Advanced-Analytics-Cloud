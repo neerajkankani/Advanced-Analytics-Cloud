{
 "cells": [
  {
   "cell_type": "code",
   "execution_count": 3,
   "id": "c20bd8af-390e-43be-be8e-39b6161ff3ad",
   "metadata": {},
   "outputs": [
    {
     "name": "stdout",
     "output_type": "stream",
     "text": [
      "Requirement already satisfied: pandas-gbq in /opt/conda/lib/python3.7/site-packages (0.17.8)\n",
      "Requirement already satisfied: db-dtypes<2.0.0,>=0.3.1 in /opt/conda/lib/python3.7/site-packages (from pandas-gbq) (1.0.4)\n",
      "Requirement already satisfied: numpy>=1.16.6 in /opt/conda/lib/python3.7/site-packages (from pandas-gbq) (1.21.6)\n",
      "Requirement already satisfied: google-auth>=1.25.0 in /opt/conda/lib/python3.7/site-packages (from pandas-gbq) (2.11.0)\n",
      "Requirement already satisfied: pydata-google-auth in /opt/conda/lib/python3.7/site-packages (from pandas-gbq) (1.4.0)\n",
      "Requirement already satisfied: google-cloud-bigquery!=2.4.*,<4.0.0dev,>=1.27.2 in /opt/conda/lib/python3.7/site-packages (from pandas-gbq) (2.34.4)\n",
      "Requirement already satisfied: google-api-core!=2.0.*,!=2.1.*,!=2.2.*,!=2.3.0,<3.0.0dev,>=1.31.5 in /opt/conda/lib/python3.7/site-packages (from pandas-gbq) (2.8.1)\n",
      "Requirement already satisfied: pyarrow<10.0dev,>=3.0.0 in /opt/conda/lib/python3.7/site-packages (from pandas-gbq) (9.0.0)\n",
      "Requirement already satisfied: google-auth-oauthlib>=0.0.1 in /opt/conda/lib/python3.7/site-packages (from pandas-gbq) (0.4.6)\n",
      "Requirement already satisfied: setuptools in /opt/conda/lib/python3.7/site-packages (from pandas-gbq) (59.8.0)\n",
      "Requirement already satisfied: google-cloud-bigquery-storage<3.0.0dev,>=1.1.0 in /opt/conda/lib/python3.7/site-packages (from pandas-gbq) (2.15.0)\n",
      "Requirement already satisfied: pandas>=0.24.2 in /opt/conda/lib/python3.7/site-packages (from pandas-gbq) (1.3.5)\n",
      "Requirement already satisfied: packaging>=17.0 in /opt/conda/lib/python3.7/site-packages (from db-dtypes<2.0.0,>=0.3.1->pandas-gbq) (21.3)\n",
      "Requirement already satisfied: googleapis-common-protos<2.0dev,>=1.56.2 in /opt/conda/lib/python3.7/site-packages (from google-api-core!=2.0.*,!=2.1.*,!=2.2.*,!=2.3.0,<3.0.0dev,>=1.31.5->pandas-gbq) (1.56.4)\n",
      "Requirement already satisfied: protobuf<4.0.0dev,>=3.15.0 in /opt/conda/lib/python3.7/site-packages (from google-api-core!=2.0.*,!=2.1.*,!=2.2.*,!=2.3.0,<3.0.0dev,>=1.31.5->pandas-gbq) (3.19.5)\n",
      "Requirement already satisfied: requests<3.0.0dev,>=2.18.0 in /opt/conda/lib/python3.7/site-packages (from google-api-core!=2.0.*,!=2.1.*,!=2.2.*,!=2.3.0,<3.0.0dev,>=1.31.5->pandas-gbq) (2.28.1)\n",
      "Requirement already satisfied: pyasn1-modules>=0.2.1 in /opt/conda/lib/python3.7/site-packages (from google-auth>=1.25.0->pandas-gbq) (0.2.7)\n",
      "Requirement already satisfied: six>=1.9.0 in /opt/conda/lib/python3.7/site-packages (from google-auth>=1.25.0->pandas-gbq) (1.16.0)\n",
      "Requirement already satisfied: cachetools<6.0,>=2.0.0 in /opt/conda/lib/python3.7/site-packages (from google-auth>=1.25.0->pandas-gbq) (5.2.0)\n",
      "Requirement already satisfied: rsa<5,>=3.1.4 in /opt/conda/lib/python3.7/site-packages (from google-auth>=1.25.0->pandas-gbq) (4.9)\n",
      "Requirement already satisfied: requests-oauthlib>=0.7.0 in /opt/conda/lib/python3.7/site-packages (from google-auth-oauthlib>=0.0.1->pandas-gbq) (1.3.1)\n",
      "Requirement already satisfied: python-dateutil<3.0dev,>=2.7.2 in /opt/conda/lib/python3.7/site-packages (from google-cloud-bigquery!=2.4.*,<4.0.0dev,>=1.27.2->pandas-gbq) (2.8.2)\n",
      "Requirement already satisfied: google-resumable-media<3.0dev,>=0.6.0 in /opt/conda/lib/python3.7/site-packages (from google-cloud-bigquery!=2.4.*,<4.0.0dev,>=1.27.2->pandas-gbq) (2.3.3)\n",
      "Requirement already satisfied: proto-plus<2.0.0dev,>=1.15.0 in /opt/conda/lib/python3.7/site-packages (from google-cloud-bigquery!=2.4.*,<4.0.0dev,>=1.27.2->pandas-gbq) (1.22.1)\n",
      "Requirement already satisfied: google-cloud-core<3.0.0dev,>=1.4.1 in /opt/conda/lib/python3.7/site-packages (from google-cloud-bigquery!=2.4.*,<4.0.0dev,>=1.27.2->pandas-gbq) (2.3.2)\n",
      "Requirement already satisfied: grpcio<2.0dev,>=1.38.1 in /opt/conda/lib/python3.7/site-packages (from google-cloud-bigquery!=2.4.*,<4.0.0dev,>=1.27.2->pandas-gbq) (1.48.1)\n",
      "Requirement already satisfied: pytz>=2017.3 in /opt/conda/lib/python3.7/site-packages (from pandas>=0.24.2->pandas-gbq) (2022.2.1)\n",
      "Requirement already satisfied: grpcio-status<2.0dev,>=1.33.2 in /opt/conda/lib/python3.7/site-packages (from google-api-core!=2.0.*,!=2.1.*,!=2.2.*,!=2.3.0,<3.0.0dev,>=1.31.5->pandas-gbq) (1.48.1)\n",
      "Requirement already satisfied: google-crc32c<2.0dev,>=1.0 in /opt/conda/lib/python3.7/site-packages (from google-resumable-media<3.0dev,>=0.6.0->google-cloud-bigquery!=2.4.*,<4.0.0dev,>=1.27.2->pandas-gbq) (1.1.2)\n",
      "Requirement already satisfied: pyparsing!=3.0.5,>=2.0.2 in /opt/conda/lib/python3.7/site-packages (from packaging>=17.0->db-dtypes<2.0.0,>=0.3.1->pandas-gbq) (3.0.9)\n",
      "Requirement already satisfied: pyasn1<0.5.0,>=0.4.6 in /opt/conda/lib/python3.7/site-packages (from pyasn1-modules>=0.2.1->google-auth>=1.25.0->pandas-gbq) (0.4.8)\n",
      "Requirement already satisfied: charset-normalizer<3,>=2 in /opt/conda/lib/python3.7/site-packages (from requests<3.0.0dev,>=2.18.0->google-api-core!=2.0.*,!=2.1.*,!=2.2.*,!=2.3.0,<3.0.0dev,>=1.31.5->pandas-gbq) (2.1.1)\n",
      "Requirement already satisfied: urllib3<1.27,>=1.21.1 in /opt/conda/lib/python3.7/site-packages (from requests<3.0.0dev,>=2.18.0->google-api-core!=2.0.*,!=2.1.*,!=2.2.*,!=2.3.0,<3.0.0dev,>=1.31.5->pandas-gbq) (1.26.11)\n",
      "Requirement already satisfied: certifi>=2017.4.17 in /opt/conda/lib/python3.7/site-packages (from requests<3.0.0dev,>=2.18.0->google-api-core!=2.0.*,!=2.1.*,!=2.2.*,!=2.3.0,<3.0.0dev,>=1.31.5->pandas-gbq) (2022.9.14)\n",
      "Requirement already satisfied: idna<4,>=2.5 in /opt/conda/lib/python3.7/site-packages (from requests<3.0.0dev,>=2.18.0->google-api-core!=2.0.*,!=2.1.*,!=2.2.*,!=2.3.0,<3.0.0dev,>=1.31.5->pandas-gbq) (3.3)\n",
      "Requirement already satisfied: oauthlib>=3.0.0 in /opt/conda/lib/python3.7/site-packages (from requests-oauthlib>=0.7.0->google-auth-oauthlib>=0.0.1->pandas-gbq) (3.2.1)\n",
      "Requirement already satisfied: cffi>=1.0.0 in /opt/conda/lib/python3.7/site-packages (from google-crc32c<2.0dev,>=1.0->google-resumable-media<3.0dev,>=0.6.0->google-cloud-bigquery!=2.4.*,<4.0.0dev,>=1.27.2->pandas-gbq) (1.15.1)\n",
      "Requirement already satisfied: pycparser in /opt/conda/lib/python3.7/site-packages (from cffi>=1.0.0->google-crc32c<2.0dev,>=1.0->google-resumable-media<3.0dev,>=0.6.0->google-cloud-bigquery!=2.4.*,<4.0.0dev,>=1.27.2->pandas-gbq) (2.21)\n",
      "Note: you may need to restart the kernel to use updated packages.\n"
     ]
    }
   ],
   "source": [
    "pip install pandas-gbq"
   ]
  },
  {
   "cell_type": "code",
   "execution_count": 2,
   "id": "c0393f1e-7b8c-4775-b74c-7ee526900894",
   "metadata": {},
   "outputs": [],
   "source": [
    "# import all relevant packages \n",
    "import pandas as pd\n",
    "from pandas.io import gbq\n",
    "import requests\n",
    "import json"
   ]
  },
  {
   "cell_type": "code",
   "execution_count": 9,
   "id": "c6e861ba-5514-4c6c-b83f-31c988de0451",
   "metadata": {},
   "outputs": [],
   "source": [
    "# call cryptocompare historical stats API\n",
    "def get_data():\n",
    "    crypto_api_url = \"https://min-api.cryptocompare.com/data/v2/histoday\"\n",
    "    payload = {'fsym': 'ETH', 'tsym': 'USD','limit': '2000', 'api_key': '876e681e9dfc98c377bbb8154d600fbe70dd6a132f76d07d5bd042af1abe8e64'}\n",
    "    request_data = requests.get(crypto_api_url,params=payload)\n",
    "    return request_data.json()['Data']['Data']"
   ]
  },
  {
   "cell_type": "code",
   "execution_count": 10,
   "id": "6c2abd8f-01c5-4c1a-92a7-57fe5c1f2cb3",
   "metadata": {},
   "outputs": [],
   "source": [
    "CryptoAPIDataResponse = get_data()"
   ]
  },
  {
   "cell_type": "code",
   "execution_count": 12,
   "id": "ace5d558-9702-4339-acf4-c3d269f4b725",
   "metadata": {},
   "outputs": [
    {
     "data": {
      "text/plain": [
       "[{'time': 1491004800,\n",
       "  'high': 52.7,\n",
       "  'low': 47.7,\n",
       "  'open': 49.57,\n",
       "  'volumefrom': 911358.56,\n",
       "  'volumeto': 45810015.46,\n",
       "  'close': 50.27,\n",
       "  'conversionType': 'multiply',\n",
       "  'conversionSymbol': 'BTC'},\n",
       " {'time': 1491091200,\n",
       "  'high': 51.93,\n",
       "  'low': 40.09,\n",
       "  'open': 50.27,\n",
       "  'volumefrom': 1402855.51,\n",
       "  'volumeto': 67229687.11,\n",
       "  'close': 47.92,\n",
       "  'conversionType': 'multiply',\n",
       "  'conversionSymbol': 'BTC'},\n",
       " {'time': 1491177600,\n",
       "  'high': 50.44,\n",
       "  'low': 42.39,\n",
       "  'open': 47.92,\n",
       "  'volumefrom': 1993261.33,\n",
       "  'volumeto': 87492551.67,\n",
       "  'close': 43.89,\n",
       "  'conversionType': 'multiply',\n",
       "  'conversionSymbol': 'BTC'},\n",
       " {'time': 1491264000,\n",
       "  'high': 46.33,\n",
       "  'low': 40.52,\n",
       "  'open': 43.89,\n",
       "  'volumefrom': 1768504.23,\n",
       "  'volumeto': 78366125.15,\n",
       "  'close': 44.31,\n",
       "  'conversionType': 'multiply',\n",
       "  'conversionSymbol': 'BTC'},\n",
       " {'time': 1491350400,\n",
       "  'high': 48.45,\n",
       "  'low': 43.57,\n",
       "  'open': 44.31,\n",
       "  'volumefrom': 1364875.45,\n",
       "  'volumeto': 61191790.8,\n",
       "  'close': 44.83,\n",
       "  'conversionType': 'multiply',\n",
       "  'conversionSymbol': 'BTC'},\n",
       " {'time': 1491436800,\n",
       "  'high': 47.86,\n",
       "  'low': 40.04,\n",
       "  'open': 44.83,\n",
       "  'volumefrom': 1953064.61,\n",
       "  'volumeto': 84042206.05,\n",
       "  'close': 43.03,\n",
       "  'conversionType': 'multiply',\n",
       "  'conversionSymbol': 'BTC'},\n",
       " {'time': 1491523200,\n",
       "  'high': 45.04,\n",
       "  'low': 41.13,\n",
       "  'open': 43.03,\n",
       "  'volumefrom': 1080013.2,\n",
       "  'volumeto': 45399652.93,\n",
       "  'close': 42.04,\n",
       "  'conversionType': 'multiply',\n",
       "  'conversionSymbol': 'BTC'},\n",
       " {'time': 1491609600,\n",
       "  'high': 48.97,\n",
       "  'low': 41.66,\n",
       "  'open': 42.04,\n",
       "  'volumefrom': 888373.53,\n",
       "  'volumeto': 39305044.42,\n",
       "  'close': 44.24,\n",
       "  'conversionType': 'multiply',\n",
       "  'conversionSymbol': 'BTC'},\n",
       " {'time': 1491696000,\n",
       "  'high': 45.44,\n",
       "  'low': 42.72,\n",
       "  'open': 44.24,\n",
       "  'volumefrom': 705988.29,\n",
       "  'volumeto': 30702525.23,\n",
       "  'close': 43.49,\n",
       "  'conversionType': 'multiply',\n",
       "  'conversionSymbol': 'BTC'},\n",
       " {'time': 1491782400,\n",
       "  'high': 44.57,\n",
       "  'low': 42.49,\n",
       "  'open': 43.72,\n",
       "  'volumefrom': 212490.27,\n",
       "  'volumeto': 9252478.8,\n",
       "  'close': 43.74,\n",
       "  'conversionType': 'direct',\n",
       "  'conversionSymbol': ''}]"
      ]
     },
     "execution_count": 12,
     "metadata": {},
     "output_type": "execute_result"
    }
   ],
   "source": [
    "CryptoAPIDataResponse[:10]"
   ]
  },
  {
   "cell_type": "code",
   "execution_count": 16,
   "id": "a75299ec-3b44-4f51-8774-4610f367f41b",
   "metadata": {},
   "outputs": [],
   "source": [
    "#convert to JSON\n",
    "CryptoAPIDataResponseJSON = json.dumps(CryptoAPIDataResponse)"
   ]
  },
  {
   "cell_type": "code",
   "execution_count": 17,
   "id": "065d2ac7-d981-468d-9b95-7363f889fd63",
   "metadata": {},
   "outputs": [
    {
     "data": {
      "text/html": [
       "<div>\n",
       "<style scoped>\n",
       "    .dataframe tbody tr th:only-of-type {\n",
       "        vertical-align: middle;\n",
       "    }\n",
       "\n",
       "    .dataframe tbody tr th {\n",
       "        vertical-align: top;\n",
       "    }\n",
       "\n",
       "    .dataframe thead th {\n",
       "        text-align: right;\n",
       "    }\n",
       "</style>\n",
       "<table border=\"1\" class=\"dataframe\">\n",
       "  <thead>\n",
       "    <tr style=\"text-align: right;\">\n",
       "      <th></th>\n",
       "      <th>time</th>\n",
       "      <th>high</th>\n",
       "      <th>low</th>\n",
       "      <th>open</th>\n",
       "      <th>volumefrom</th>\n",
       "      <th>volumeto</th>\n",
       "      <th>close</th>\n",
       "      <th>conversionType</th>\n",
       "      <th>conversionSymbol</th>\n",
       "    </tr>\n",
       "  </thead>\n",
       "  <tbody>\n",
       "    <tr>\n",
       "      <th>0</th>\n",
       "      <td>1491004800</td>\n",
       "      <td>52.70</td>\n",
       "      <td>47.70</td>\n",
       "      <td>49.57</td>\n",
       "      <td>911358.56</td>\n",
       "      <td>45810015.46</td>\n",
       "      <td>50.27</td>\n",
       "      <td>multiply</td>\n",
       "      <td>BTC</td>\n",
       "    </tr>\n",
       "    <tr>\n",
       "      <th>1</th>\n",
       "      <td>1491091200</td>\n",
       "      <td>51.93</td>\n",
       "      <td>40.09</td>\n",
       "      <td>50.27</td>\n",
       "      <td>1402855.51</td>\n",
       "      <td>67229687.11</td>\n",
       "      <td>47.92</td>\n",
       "      <td>multiply</td>\n",
       "      <td>BTC</td>\n",
       "    </tr>\n",
       "    <tr>\n",
       "      <th>2</th>\n",
       "      <td>1491177600</td>\n",
       "      <td>50.44</td>\n",
       "      <td>42.39</td>\n",
       "      <td>47.92</td>\n",
       "      <td>1993261.33</td>\n",
       "      <td>87492551.67</td>\n",
       "      <td>43.89</td>\n",
       "      <td>multiply</td>\n",
       "      <td>BTC</td>\n",
       "    </tr>\n",
       "    <tr>\n",
       "      <th>3</th>\n",
       "      <td>1491264000</td>\n",
       "      <td>46.33</td>\n",
       "      <td>40.52</td>\n",
       "      <td>43.89</td>\n",
       "      <td>1768504.23</td>\n",
       "      <td>78366125.15</td>\n",
       "      <td>44.31</td>\n",
       "      <td>multiply</td>\n",
       "      <td>BTC</td>\n",
       "    </tr>\n",
       "    <tr>\n",
       "      <th>4</th>\n",
       "      <td>1491350400</td>\n",
       "      <td>48.45</td>\n",
       "      <td>43.57</td>\n",
       "      <td>44.31</td>\n",
       "      <td>1364875.45</td>\n",
       "      <td>61191790.80</td>\n",
       "      <td>44.83</td>\n",
       "      <td>multiply</td>\n",
       "      <td>BTC</td>\n",
       "    </tr>\n",
       "  </tbody>\n",
       "</table>\n",
       "</div>"
      ],
      "text/plain": [
       "         time   high    low   open  volumefrom     volumeto  close  \\\n",
       "0  1491004800  52.70  47.70  49.57   911358.56  45810015.46  50.27   \n",
       "1  1491091200  51.93  40.09  50.27  1402855.51  67229687.11  47.92   \n",
       "2  1491177600  50.44  42.39  47.92  1993261.33  87492551.67  43.89   \n",
       "3  1491264000  46.33  40.52  43.89  1768504.23  78366125.15  44.31   \n",
       "4  1491350400  48.45  43.57  44.31  1364875.45  61191790.80  44.83   \n",
       "\n",
       "  conversionType conversionSymbol  \n",
       "0       multiply              BTC  \n",
       "1       multiply              BTC  \n",
       "2       multiply              BTC  \n",
       "3       multiply              BTC  \n",
       "4       multiply              BTC  "
      ]
     },
     "execution_count": 17,
     "metadata": {},
     "output_type": "execute_result"
    }
   ],
   "source": [
    "#convert to pandas dataframe to prepare for insertion into BigQuery\n",
    "datalistDF = pd.read_json(CryptoAPIDataResponseJSON)\n",
    "datalistDF.head()"
   ]
  },
  {
   "cell_type": "code",
   "execution_count": 18,
   "id": "ec96b58b-7926-457c-92e1-ca2f88f1b1b3",
   "metadata": {},
   "outputs": [
    {
     "data": {
      "text/plain": [
       "(2001, 9)"
      ]
     },
     "execution_count": 18,
     "metadata": {},
     "output_type": "execute_result"
    }
   ],
   "source": [
    "datalistDF.shape"
   ]
  },
  {
   "cell_type": "code",
   "execution_count": 19,
   "id": "147dcd85-37d7-44d8-bb29-364d48414cd0",
   "metadata": {},
   "outputs": [
    {
     "name": "stderr",
     "output_type": "stream",
     "text": [
      "100%|██████████| 1/1 [00:00<00:00, 8886.24it/s]\n"
     ]
    }
   ],
   "source": [
    "# create new table in BigQuery with the output\n",
    "datalistDF.to_gbq(destination_table='ExerciseDataset.CryptoHistETHdata',project_id='osudemoproject-362901',if_exists='fail')"
   ]
  },
  {
   "cell_type": "code",
   "execution_count": null,
   "id": "88a16e20-3270-4d1b-9a79-48c57da45a22",
   "metadata": {},
   "outputs": [],
   "source": []
  }
 ],
 "metadata": {
  "environment": {
   "kernel": "python3",
   "name": "tf2-gpu.2-8.m96",
   "type": "gcloud",
   "uri": "gcr.io/deeplearning-platform-release/tf2-gpu.2-8:m96"
  },
  "kernelspec": {
   "display_name": "Python 3",
   "language": "python",
   "name": "python3"
  },
  "language_info": {
   "codemirror_mode": {
    "name": "ipython",
    "version": 3
   },
   "file_extension": ".py",
   "mimetype": "text/x-python",
   "name": "python",
   "nbconvert_exporter": "python",
   "pygments_lexer": "ipython3",
   "version": "3.7.12"
  }
 },
 "nbformat": 4,
 "nbformat_minor": 5
}
